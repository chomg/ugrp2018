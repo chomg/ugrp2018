{
 "cells": [
  {
   "cell_type": "markdown",
   "metadata": {},
   "source": [
    "# Lecture 02b"
   ]
  },
  {
   "cell_type": "markdown",
   "metadata": {},
   "source": [
    "## Jupyter notebook\n",
    "\n",
    "Notebooks consist of \"cells\". Each cell can be (python) code, markdown or raw format. You can edit or evalute the cell by typing \"Enter\" key with modifiers keys such as shift, control and alt.\n",
    "\n",
    "- enter: put another line in a cell (as in text editors)\n",
    "- control_enter: evaluate the current cell\n",
    "- shift+enter: evalate the current cell, and select the next one.\n",
    "- alt+enter: evalute the current cell, and add a cell below the current one\n",
    "\n",
    "The output is generated with the following rules.\n",
    "- When you evaluate a cell, the value of the last line will be shown in the output.\n",
    "- If the evaluated value is `None`, it is NOT shown in the output.\n",
    "- If you put `;` at the end of the line, it is NOT shown in the output.\n",
    "\n",
    "Note that outputs of print() functions also appear below the cell."
   ]
  },
  {
   "cell_type": "code",
   "execution_count": 1,
   "metadata": {},
   "outputs": [
    {
     "data": {
      "text/plain": [
       "42"
      ]
     },
     "execution_count": 1,
     "metadata": {},
     "output_type": "execute_result"
    }
   ],
   "source": [
    "42"
   ]
  },
  {
   "cell_type": "code",
   "execution_count": 2,
   "metadata": {},
   "outputs": [
    {
     "data": {
      "text/plain": [
       "3"
      ]
     },
     "execution_count": 2,
     "metadata": {},
     "output_type": "execute_result"
    }
   ],
   "source": [
    "1 + 2"
   ]
  },
  {
   "cell_type": "code",
   "execution_count": 3,
   "metadata": {},
   "outputs": [
    {
     "data": {
      "text/plain": [
       "84"
      ]
     },
     "execution_count": 3,
     "metadata": {},
     "output_type": "execute_result"
    }
   ],
   "source": [
    "v = 42\n",
    "v * 2"
   ]
  },
  {
   "cell_type": "code",
   "execution_count": 4,
   "metadata": {
    "collapsed": true
   },
   "outputs": [],
   "source": [
    "None # will not appear in the output"
   ]
  },
  {
   "cell_type": "code",
   "execution_count": 5,
   "metadata": {},
   "outputs": [
    {
     "data": {
      "text/plain": [
       "23"
      ]
     },
     "execution_count": 5,
     "metadata": {},
     "output_type": "execute_result"
    }
   ],
   "source": [
    "42\n",
    "1024\n",
    "23"
   ]
  },
  {
   "cell_type": "code",
   "execution_count": 6,
   "metadata": {
    "collapsed": true
   },
   "outputs": [],
   "source": [
    "42\n",
    "1024\n",
    "23; # will not appear in the output"
   ]
  },
  {
   "cell_type": "code",
   "execution_count": 7,
   "metadata": {},
   "outputs": [
    {
     "name": "stdout",
     "output_type": "stream",
     "text": [
      "Hello, world!\n"
     ]
    }
   ],
   "source": [
    "print('Hello, world!')"
   ]
  },
  {
   "cell_type": "code",
   "execution_count": 8,
   "metadata": {},
   "outputs": [
    {
     "name": "stdout",
     "output_type": "stream",
     "text": [
      "Hello, world!\n"
     ]
    },
    {
     "data": {
      "text/plain": [
       "42"
      ]
     },
     "execution_count": 8,
     "metadata": {},
     "output_type": "execute_result"
    }
   ],
   "source": [
    "print('Hello, world!')\n",
    "42"
   ]
  },
  {
   "cell_type": "markdown",
   "metadata": {
    "collapsed": true
   },
   "source": [
    "## Sequence"
   ]
  },
  {
   "cell_type": "markdown",
   "metadata": {
    "collapsed": true
   },
   "source": [
    "`list` can more more than one element, and each element is referenced by an index which starts from 0. `list` is mutable.\n",
    "\n",
    "`str` is a sequence of single (unicode) characters. `str` is immutable.\n",
    "\n",
    "You can reference a value (or a chracter) of a sequence with an index, which starts from 0.\n",
    "\n",
    "Slicing can be used to generate a subset of the original sequence. Note that slicing generated an object with the same data type of the original object even though none or one item is selected.\n",
    "\n",
    "- ```a[start:end] # items start through end-1```\n",
    "- ```a[start:]    # items start through the rest of the array```\n",
    "- ```a[:end]      # items from the beginning through end-1```\n",
    "- ```a[:]         # a copy of the whole array```\n",
    "\n",
    "You may add the step as the following.\n",
    "- ```a[start:end:step] # start through not past end, by step```\n",
    "\n",
    "When a negative number is used, items in a sequence is counted from the end. For example,\n",
    "\n",
    "- ```a[-1]    # last item in the array```\n",
    "- ```a[-2:]   # last two items in the array```\n",
    "- ```a[:-2]   # everything except the last two items```"
   ]
  },
  {
   "cell_type": "code",
   "execution_count": 9,
   "metadata": {},
   "outputs": [
    {
     "name": "stdout",
     "output_type": "stream",
     "text": [
      "H\n",
      "e\n",
      "o\n",
      "ell\n",
      "oll\n",
      "ll\n",
      "\n",
      "e\n"
     ]
    }
   ],
   "source": [
    "s = 'Hello'\n",
    "print(s[0])\n",
    "print(s[1])\n",
    "print(s[-1])\n",
    "print(s[1:4])\n",
    "print(s[4:1:-1])\n",
    "print(s[-3:-1])\n",
    "print(s[-3:-1:-1])\n",
    "print(s[1:2])"
   ]
  },
  {
   "cell_type": "code",
   "execution_count": 10,
   "metadata": {},
   "outputs": [
    {
     "name": "stdout",
     "output_type": "stream",
     "text": [
      "[1024]\n"
     ]
    }
   ],
   "source": [
    "t = [42, 1024, 23]\n",
    "print(t[1:2]) # a list is generated even though only one item is selected"
   ]
  },
  {
   "cell_type": "markdown",
   "metadata": {},
   "source": [
    "## List comprehension"
   ]
  },
  {
   "cell_type": "markdown",
   "metadata": {},
   "source": [
    "A list comprehension is a very handy shortcut of generating a list. It can remove `for` and/or `if` statements and make python code much shorter and (arguably) readable.\n",
    "\n",
    "For example, if we want to add an item from 0 to 9 to a list, we may have the following code. (This is just for an example. Much shorter code may be used.)"
   ]
  },
  {
   "cell_type": "code",
   "execution_count": 11,
   "metadata": {},
   "outputs": [
    {
     "name": "stdout",
     "output_type": "stream",
     "text": [
      "[0, 1, 2, 3, 4, 5, 6, 7, 8, 9]\n"
     ]
    }
   ],
   "source": [
    "v = []\n",
    "for i in range(10):\n",
    "    v.append(i)\n",
    "print(v)"
   ]
  },
  {
   "cell_type": "markdown",
   "metadata": {},
   "source": [
    "The top 3 lines can be shortened to 1 line with list comprehension as follows."
   ]
  },
  {
   "cell_type": "code",
   "execution_count": 12,
   "metadata": {},
   "outputs": [
    {
     "name": "stdout",
     "output_type": "stream",
     "text": [
      "[0, 1, 2, 3, 4, 5, 6, 7, 8, 9]\n"
     ]
    }
   ],
   "source": [
    "v = [i for i in range(10)]\n",
    "print(v)"
   ]
  },
  {
   "cell_type": "markdown",
   "metadata": {},
   "source": [
    "There are cases that we may want to selectively add (or filter) items into a new list. For exmaple, we may want to add only even numbers."
   ]
  },
  {
   "cell_type": "code",
   "execution_count": 13,
   "metadata": {},
   "outputs": [
    {
     "name": "stdout",
     "output_type": "stream",
     "text": [
      "[0, 2, 4, 6, 8, 10, 12, 14, 16, 18]\n"
     ]
    }
   ],
   "source": [
    "v = []\n",
    "for i in range(20):\n",
    "    if i % 2 == 0:\n",
    "        v.append(i)\n",
    "print(v)"
   ]
  },
  {
   "cell_type": "markdown",
   "metadata": {},
   "source": [
    "We can filter the sequence using `if`."
   ]
  },
  {
   "cell_type": "code",
   "execution_count": 14,
   "metadata": {},
   "outputs": [
    {
     "name": "stdout",
     "output_type": "stream",
     "text": [
      "[0, 2, 4, 6, 8, 10, 12, 14, 16, 18]\n"
     ]
    }
   ],
   "source": [
    "v = [i for i in range(20) if i % 2 == 0]\n",
    "print(v)"
   ]
  },
  {
   "cell_type": "markdown",
   "metadata": {},
   "source": [
    "List comprehension is much more similart to mathematical representation of sets, e.g.,\n",
    "\n",
    "- s = {x² : x in {0 ... 9}}\n",
    "- v = (1, 2, 4, 8, ..., 2¹²)\n",
    "- m = {x | x in S and x even}\n",
    "\n",
    "The following can be written in python code as"
   ]
  },
  {
   "cell_type": "code",
   "execution_count": 15,
   "metadata": {
    "collapsed": true
   },
   "outputs": [],
   "source": [
    "s = [x**2 for x in range(10)]\n",
    "v = [2**i for i in range(13)]\n",
    "m = [x for x in s if x % 2 == 0]"
   ]
  },
  {
   "cell_type": "code",
   "execution_count": 16,
   "metadata": {},
   "outputs": [
    {
     "name": "stdout",
     "output_type": "stream",
     "text": [
      "[0, 1, 4, 9, 16, 25, 36, 49, 64, 81]\n",
      "[1, 2, 4, 8, 16, 32, 64, 128, 256, 512, 1024, 2048, 4096]\n",
      "[0, 4, 16, 36, 64]\n"
     ]
    }
   ],
   "source": [
    "print(s)\n",
    "print(v)\n",
    "print(m)"
   ]
  },
  {
   "cell_type": "markdown",
   "metadata": {},
   "source": [
    "### Nested list comprehension"
   ]
  },
  {
   "cell_type": "code",
   "execution_count": 17,
   "metadata": {},
   "outputs": [
    {
     "name": "stdout",
     "output_type": "stream",
     "text": [
      "[(0, 0), (0, 1), (0, 2), (1, 0), (1, 1), (1, 2)]\n"
     ]
    }
   ],
   "source": [
    "v = []\n",
    "for x in range(2):\n",
    "    for y in range(3):\n",
    "        v.append((x, y))\n",
    "\n",
    "print(v)"
   ]
  },
  {
   "cell_type": "code",
   "execution_count": 18,
   "metadata": {},
   "outputs": [
    {
     "name": "stdout",
     "output_type": "stream",
     "text": [
      "[(0, 0), (0, 1), (0, 2), (1, 0), (1, 1), (1, 2)]\n"
     ]
    }
   ],
   "source": [
    "v = [(x, y) for x in range(2) for y in range(3)]\n",
    "print(v)"
   ]
  },
  {
   "cell_type": "markdown",
   "metadata": {},
   "source": [
    "Now we want to take only even value of x's and only odd value of y's."
   ]
  },
  {
   "cell_type": "code",
   "execution_count": 19,
   "metadata": {},
   "outputs": [
    {
     "name": "stdout",
     "output_type": "stream",
     "text": [
      "[(0, 1), (0, 3), (2, 1), (2, 3), (4, 1), (4, 3)]\n"
     ]
    }
   ],
   "source": [
    "v = []\n",
    "for x in range(5):\n",
    "    if x % 2 == 0:\n",
    "        for y in range(5):\n",
    "            if y % 2:\n",
    "                v.append((x, y))\n",
    "\n",
    "print(v)"
   ]
  },
  {
   "cell_type": "code",
   "execution_count": 20,
   "metadata": {},
   "outputs": [
    {
     "name": "stdout",
     "output_type": "stream",
     "text": [
      "[(0, 1), (0, 3), (2, 1), (2, 3), (4, 1), (4, 3)]\n"
     ]
    }
   ],
   "source": [
    "v = [(x, y) for x in range(5) if x % 2 == 0 for y in range(5) if y % 2]\n",
    "print(v)"
   ]
  },
  {
   "cell_type": "code",
   "execution_count": 21,
   "metadata": {},
   "outputs": [
    {
     "name": "stdout",
     "output_type": "stream",
     "text": [
      "[(0, 1), (0, 3), (2, 1), (2, 3), (4, 1), (4, 3)]\n"
     ]
    }
   ],
   "source": [
    "# with different indentation\n",
    "v = [(x, y) for x in range(5) if x % 2 == 0\n",
    "            for y in range(5) if y % 2]\n",
    "print(v)"
   ]
  },
  {
   "cell_type": "markdown",
   "metadata": {},
   "source": [
    "## function"
   ]
  },
  {
   "cell_type": "code",
   "execution_count": 22,
   "metadata": {},
   "outputs": [
    {
     "data": {
      "text/plain": [
       "65"
      ]
     },
     "execution_count": 22,
     "metadata": {},
     "output_type": "execute_result"
    }
   ],
   "source": [
    "# a very simple function\n",
    "def add(x, y):\n",
    "    return x + y\n",
    "\n",
    "add(42, 23)"
   ]
  },
  {
   "cell_type": "code",
   "execution_count": 23,
   "metadata": {},
   "outputs": [
    {
     "name": "stdout",
     "output_type": "stream",
     "text": [
      "65\n",
      "1089\n"
     ]
    }
   ],
   "source": [
    "# function with a default value\n",
    "def add(x, y, z=0):\n",
    "    return x + y + z\n",
    "\n",
    "print(add(42, 23))\n",
    "print(add(42, 23, 1024))"
   ]
  },
  {
   "cell_type": "code",
   "execution_count": 24,
   "metadata": {},
   "outputs": [
    {
     "name": "stdout",
     "output_type": "stream",
     "text": [
      "65\n",
      "1089\n"
     ]
    }
   ],
   "source": [
    "# None is frequently used as a default value to indicate nothing is passed\n",
    "def add(x, y, z=None):\n",
    "    if z != None:\n",
    "        return x + y + z\n",
    "    else:\n",
    "        return x + y\n",
    "    \n",
    "print(add(42, 23))\n",
    "print(add(42, 23, 1024))   "
   ]
  },
  {
   "cell_type": "code",
   "execution_count": 25,
   "metadata": {},
   "outputs": [
    {
     "name": "stdout",
     "output_type": "stream",
     "text": [
      "65\n",
      "1089\n"
     ]
    }
   ],
   "source": [
    "# None is frequently used as a default value to indicate nothing is passed\n",
    "def add(x, y, z=None):\n",
    "    if z: # None is evaluated as False\n",
    "        return x + y + z\n",
    "    else:\n",
    "        return x + y\n",
    "    \n",
    "print(add(42, 23))\n",
    "print(add(42, 23, 1024))"
   ]
  },
  {
   "cell_type": "markdown",
   "metadata": {},
   "source": [
    "In python, a variable can refer to any type object including function object. It means that you can assign a function to a variable."
   ]
  },
  {
   "cell_type": "code",
   "execution_count": 26,
   "metadata": {},
   "outputs": [
    {
     "name": "stdout",
     "output_type": "stream",
     "text": [
      "65\n",
      "19\n"
     ]
    }
   ],
   "source": [
    "def add(x, y):\n",
    "    return x + y\n",
    "\n",
    "def substract(x, y):\n",
    "    return x - y\n",
    "\n",
    "op = add # op refers to add()\n",
    "print(op(42, 23))\n",
    "op = substract # op refers to substract()\n",
    "print(op(42, 23))"
   ]
  },
  {
   "cell_type": "markdown",
   "metadata": {},
   "source": [
    "## Lambda function\n",
    "\n",
    "Python support lambda functions, i.e., function objects without a name. Typically, lambda function is a very short function."
   ]
  },
  {
   "cell_type": "code",
   "execution_count": 1,
   "metadata": {},
   "outputs": [
    {
     "name": "stdout",
     "output_type": "stream",
     "text": [
      "65\n",
      "19\n"
     ]
    }
   ],
   "source": [
    "add_l = lambda x, y: x + y\n",
    "substract_l = lambda x, y: x - y\n",
    "\n",
    "print(add_l(42, 23))\n",
    "print(substract_l(42, 23))"
   ]
  }
 ],
 "metadata": {
  "kernelspec": {
   "display_name": "Python 3",
   "language": "python",
   "name": "python3"
  },
  "language_info": {
   "codemirror_mode": {
    "name": "ipython",
    "version": 3
   },
   "file_extension": ".py",
   "mimetype": "text/x-python",
   "name": "python",
   "nbconvert_exporter": "python",
   "pygments_lexer": "ipython3",
   "version": "3.6.4"
  }
 },
 "nbformat": 4,
 "nbformat_minor": 2
}
